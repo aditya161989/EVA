{
 "cells": [
  {
   "cell_type": "code",
   "execution_count": 1,
   "metadata": {
    "colab": {
     "base_uri": "https://localhost:8080/",
     "height": 35
    },
    "colab_type": "code",
    "id": "avnpjK8eSAAS",
    "outputId": "1237cdb2-fee2-452b-b946-03d337e7f278"
   },
   "outputs": [
    {
     "data": {
      "text/plain": [
       "'/workspace/Assignment 15'"
      ]
     },
     "execution_count": 1,
     "metadata": {},
     "output_type": "execute_result"
    }
   ],
   "source": [
    "import os\n",
    "os.getcwd()"
   ]
  },
  {
   "cell_type": "code",
   "execution_count": 2,
   "metadata": {
    "colab": {
     "base_uri": "https://localhost:8080/",
     "height": 72
    },
    "colab_type": "code",
    "id": "ZcAF2G73SEoV",
    "outputId": "939736ca-d34f-4d68-9fa6-ba7f1c648198"
   },
   "outputs": [
    {
     "name": "stdout",
     "output_type": "stream",
     "text": [
      "'Create Data (1).ipynb'       __pycache__\t loss.py\t   train.py\n",
      " DataLoader.ipynb\t      data\t\t maskoverlay.zip   validate.py\n",
      "'Dice Loss Small (1).ipynb'   data_producer.py\t model.py\t   visualize.py\n",
      " Segmentation.ipynb\t      dice_loss.py\t overlay.zip\n",
      " Validate.ipynb\t\t      lean_model.py\t runs\n"
     ]
    }
   ],
   "source": [
    "!ls"
   ]
  },
  {
   "cell_type": "code",
   "execution_count": 3,
   "metadata": {},
   "outputs": [],
   "source": [
    "import torch\n",
    "torch.cuda.empty_cache()"
   ]
  },
  {
   "cell_type": "code",
   "execution_count": 4,
   "metadata": {
    "colab": {},
    "colab_type": "code",
    "id": "9Cd05c_I5Pkt"
   },
   "outputs": [],
   "source": [
    "from pathlib import Path\n",
    "\n",
    "root_folder = Path.cwd()"
   ]
  },
  {
   "cell_type": "code",
   "execution_count": 5,
   "metadata": {
    "colab": {},
    "colab_type": "code",
    "id": "BBkFVkj1ZS7w"
   },
   "outputs": [],
   "source": [
    "import torch\n",
    "cuda_check = torch.cuda.is_available()\n",
    "device = torch.device(\"cuda:0\" if cuda_check else \"cpu\")"
   ]
  },
  {
   "cell_type": "code",
   "execution_count": 6,
   "metadata": {},
   "outputs": [
    {
     "name": "stdout",
     "output_type": "stream",
     "text": [
      "cuda:0\n"
     ]
    }
   ],
   "source": [
    "print(device)"
   ]
  },
  {
   "cell_type": "code",
   "execution_count": 7,
   "metadata": {},
   "outputs": [
    {
     "name": "stdout",
     "output_type": "stream",
     "text": [
      "/workspace/Assignment 15\n"
     ]
    }
   ],
   "source": [
    "print(root_folder)"
   ]
  },
  {
   "cell_type": "code",
   "execution_count": 8,
   "metadata": {
    "colab": {},
    "colab_type": "code",
    "id": "EUHlhRzPTBYO"
   },
   "outputs": [],
   "source": [
    "from torchvision.transforms import transforms\n",
    "from torchvision.transforms import ColorJitter\n",
    "\n",
    "transform = transforms.Compose([\n",
    "#                                 transforms.ColorJitter(brightness=0.2, contrast=0.2, saturation=0.2, hue=0.2),\n",
    "                                transforms.ToTensor(),\n",
    "])"
   ]
  },
  {
   "cell_type": "code",
   "execution_count": 9,
   "metadata": {
    "colab": {},
    "colab_type": "code",
    "id": "e0Ky2M98QFjY"
   },
   "outputs": [],
   "source": [
    "from torchvision.transforms import transforms\n",
    "from pathlib import Path\n",
    "data_folder = root_folder / 'data'\n",
    "train_folder = data_folder / 'train'\n",
    "# test_folder = data_folder / 'test1'\n",
    "validate_folder = data_folder / 'validate'\n",
    "weights_folder = data_folder / 'weights'\n"
   ]
  },
  {
   "cell_type": "code",
   "execution_count": 10,
   "metadata": {
    "colab": {},
    "colab_type": "code",
    "id": "at13HlEgoC5e"
   },
   "outputs": [],
   "source": [
    "import data_producer as dp\n",
    "import model as md\n",
    "import train\n",
    "import test\n",
    "import validate\n",
    "import visualize as viz\n",
    "import dice_loss as dl\n",
    "import loss\n",
    "import lean_model"
   ]
  },
  {
   "cell_type": "code",
   "execution_count": 11,
   "metadata": {
    "colab": {},
    "colab_type": "code",
    "id": "DkioPogroGgZ"
   },
   "outputs": [],
   "source": [
    "validate_set = dp.DataProducer(validate_folder, transform)"
   ]
  },
  {
   "cell_type": "code",
   "execution_count": 12,
   "metadata": {},
   "outputs": [],
   "source": [
    "# train_set = dp.DataProducer(train_folder, transform)"
   ]
  },
  {
   "cell_type": "code",
   "execution_count": 13,
   "metadata": {
    "colab": {},
    "colab_type": "code",
    "id": "ooOHyfNuQIPe"
   },
   "outputs": [],
   "source": [
    "from torch.utils.data import DataLoader\n",
    "# train_dl = DataLoader(train_set, batch_size=512, shuffle= True, num_workers = 12)\n",
    "# test_dl = DataLoader(test_set, batch_size=16, shuffle= True,num_workers = 6)\n",
    "validate_dl = DataLoader(validate_set, batch_size=256, shuffle= False, num_workers = 12)"
   ]
  },
  {
   "cell_type": "code",
   "execution_count": 14,
   "metadata": {
    "colab": {},
    "colab_type": "code",
    "id": "3zYSKYZIV3-U"
   },
   "outputs": [],
   "source": [
    "import torch.nn as nn\n",
    "criterion = loss.calc_loss"
   ]
  },
  {
   "cell_type": "code",
   "execution_count": 15,
   "metadata": {
    "colab": {},
    "colab_type": "code",
    "id": "nsWWvuJuXcYx"
   },
   "outputs": [],
   "source": [
    "model = md.ResNetUNet(n_class=1)\n",
    "# model = lean_model.Unet()\n",
    "model = model.to(device)"
   ]
  },
  {
   "cell_type": "code",
   "execution_count": 16,
   "metadata": {},
   "outputs": [
    {
     "name": "stdout",
     "output_type": "stream",
     "text": [
      "/workspace/Assignment 15/data/weights/epoch-380weights.pth\n"
     ]
    }
   ],
   "source": [
    "saved_weight = weights_folder / 'epoch-380weights.pth'\n",
    "print(saved_weight)"
   ]
  },
  {
   "cell_type": "code",
   "execution_count": 17,
   "metadata": {},
   "outputs": [
    {
     "data": {
      "text/plain": [
       "<All keys matched successfully>"
      ]
     },
     "execution_count": 17,
     "metadata": {},
     "output_type": "execute_result"
    }
   ],
   "source": [
    "model.load_state_dict(torch.load(saved_weight))"
   ]
  },
  {
   "cell_type": "code",
   "execution_count": 18,
   "metadata": {
    "colab": {
     "base_uri": "https://localhost:8080/",
     "height": 1000
    },
    "colab_type": "code",
    "id": "ZGXsT1eVXho3",
    "outputId": "8d6159aa-956f-4993-8448-b8902588dc40"
   },
   "outputs": [
    {
     "name": "stdout",
     "output_type": "stream",
     "text": [
      "----------------------------------------------------------------\n",
      "        Layer (type)               Output Shape         Param #\n",
      "================================================================\n",
      "            Conv2d-1           [-1, 64, 64, 64]           1,792\n",
      "              ReLU-2           [-1, 64, 64, 64]               0\n",
      "            Conv2d-3           [-1, 64, 64, 64]          36,928\n",
      "              ReLU-4           [-1, 64, 64, 64]               0\n",
      "            Conv2d-5           [-1, 64, 32, 32]           9,408\n",
      "            Conv2d-6           [-1, 64, 32, 32]           9,408\n",
      "       BatchNorm2d-7           [-1, 64, 32, 32]             128\n",
      "       BatchNorm2d-8           [-1, 64, 32, 32]             128\n",
      "              ReLU-9           [-1, 64, 32, 32]               0\n",
      "             ReLU-10           [-1, 64, 32, 32]               0\n",
      "        MaxPool2d-11           [-1, 64, 16, 16]               0\n",
      "        MaxPool2d-12           [-1, 64, 16, 16]               0\n",
      "           Conv2d-13           [-1, 64, 16, 16]          36,864\n",
      "           Conv2d-14           [-1, 64, 16, 16]          36,864\n",
      "      BatchNorm2d-15           [-1, 64, 16, 16]             128\n",
      "      BatchNorm2d-16           [-1, 64, 16, 16]             128\n",
      "             ReLU-17           [-1, 64, 16, 16]               0\n",
      "             ReLU-18           [-1, 64, 16, 16]               0\n",
      "           Conv2d-19           [-1, 64, 16, 16]          36,864\n",
      "           Conv2d-20           [-1, 64, 16, 16]          36,864\n",
      "      BatchNorm2d-21           [-1, 64, 16, 16]             128\n",
      "      BatchNorm2d-22           [-1, 64, 16, 16]             128\n",
      "             ReLU-23           [-1, 64, 16, 16]               0\n",
      "             ReLU-24           [-1, 64, 16, 16]               0\n",
      "       BasicBlock-25           [-1, 64, 16, 16]               0\n",
      "       BasicBlock-26           [-1, 64, 16, 16]               0\n",
      "           Conv2d-27           [-1, 64, 16, 16]          36,864\n",
      "           Conv2d-28           [-1, 64, 16, 16]          36,864\n",
      "      BatchNorm2d-29           [-1, 64, 16, 16]             128\n",
      "      BatchNorm2d-30           [-1, 64, 16, 16]             128\n",
      "             ReLU-31           [-1, 64, 16, 16]               0\n",
      "             ReLU-32           [-1, 64, 16, 16]               0\n",
      "           Conv2d-33           [-1, 64, 16, 16]          36,864\n",
      "           Conv2d-34           [-1, 64, 16, 16]          36,864\n",
      "      BatchNorm2d-35           [-1, 64, 16, 16]             128\n",
      "      BatchNorm2d-36           [-1, 64, 16, 16]             128\n",
      "             ReLU-37           [-1, 64, 16, 16]               0\n",
      "             ReLU-38           [-1, 64, 16, 16]               0\n",
      "       BasicBlock-39           [-1, 64, 16, 16]               0\n",
      "       BasicBlock-40           [-1, 64, 16, 16]               0\n",
      "           Conv2d-41            [-1, 128, 8, 8]          73,728\n",
      "           Conv2d-42            [-1, 128, 8, 8]          73,728\n",
      "      BatchNorm2d-43            [-1, 128, 8, 8]             256\n",
      "      BatchNorm2d-44            [-1, 128, 8, 8]             256\n",
      "             ReLU-45            [-1, 128, 8, 8]               0\n",
      "             ReLU-46            [-1, 128, 8, 8]               0\n",
      "           Conv2d-47            [-1, 128, 8, 8]         147,456\n",
      "           Conv2d-48            [-1, 128, 8, 8]         147,456\n",
      "      BatchNorm2d-49            [-1, 128, 8, 8]             256\n",
      "      BatchNorm2d-50            [-1, 128, 8, 8]             256\n",
      "           Conv2d-51            [-1, 128, 8, 8]           8,192\n",
      "           Conv2d-52            [-1, 128, 8, 8]           8,192\n",
      "      BatchNorm2d-53            [-1, 128, 8, 8]             256\n",
      "      BatchNorm2d-54            [-1, 128, 8, 8]             256\n",
      "             ReLU-55            [-1, 128, 8, 8]               0\n",
      "             ReLU-56            [-1, 128, 8, 8]               0\n",
      "       BasicBlock-57            [-1, 128, 8, 8]               0\n",
      "       BasicBlock-58            [-1, 128, 8, 8]               0\n",
      "           Conv2d-59            [-1, 128, 8, 8]         147,456\n",
      "           Conv2d-60            [-1, 128, 8, 8]         147,456\n",
      "      BatchNorm2d-61            [-1, 128, 8, 8]             256\n",
      "      BatchNorm2d-62            [-1, 128, 8, 8]             256\n",
      "             ReLU-63            [-1, 128, 8, 8]               0\n",
      "             ReLU-64            [-1, 128, 8, 8]               0\n",
      "           Conv2d-65            [-1, 128, 8, 8]         147,456\n",
      "           Conv2d-66            [-1, 128, 8, 8]         147,456\n",
      "      BatchNorm2d-67            [-1, 128, 8, 8]             256\n",
      "      BatchNorm2d-68            [-1, 128, 8, 8]             256\n",
      "             ReLU-69            [-1, 128, 8, 8]               0\n",
      "             ReLU-70            [-1, 128, 8, 8]               0\n",
      "       BasicBlock-71            [-1, 128, 8, 8]               0\n",
      "       BasicBlock-72            [-1, 128, 8, 8]               0\n",
      "           Conv2d-73            [-1, 256, 4, 4]         294,912\n",
      "           Conv2d-74            [-1, 256, 4, 4]         294,912\n",
      "      BatchNorm2d-75            [-1, 256, 4, 4]             512\n",
      "      BatchNorm2d-76            [-1, 256, 4, 4]             512\n",
      "             ReLU-77            [-1, 256, 4, 4]               0\n",
      "             ReLU-78            [-1, 256, 4, 4]               0\n",
      "           Conv2d-79            [-1, 256, 4, 4]         589,824\n",
      "           Conv2d-80            [-1, 256, 4, 4]         589,824\n",
      "      BatchNorm2d-81            [-1, 256, 4, 4]             512\n",
      "      BatchNorm2d-82            [-1, 256, 4, 4]             512\n",
      "           Conv2d-83            [-1, 256, 4, 4]          32,768\n",
      "           Conv2d-84            [-1, 256, 4, 4]          32,768\n",
      "      BatchNorm2d-85            [-1, 256, 4, 4]             512\n",
      "      BatchNorm2d-86            [-1, 256, 4, 4]             512\n",
      "             ReLU-87            [-1, 256, 4, 4]               0\n",
      "             ReLU-88            [-1, 256, 4, 4]               0\n",
      "       BasicBlock-89            [-1, 256, 4, 4]               0\n",
      "       BasicBlock-90            [-1, 256, 4, 4]               0\n",
      "           Conv2d-91            [-1, 256, 4, 4]         589,824\n",
      "           Conv2d-92            [-1, 256, 4, 4]         589,824\n",
      "      BatchNorm2d-93            [-1, 256, 4, 4]             512\n",
      "      BatchNorm2d-94            [-1, 256, 4, 4]             512\n",
      "             ReLU-95            [-1, 256, 4, 4]               0\n",
      "             ReLU-96            [-1, 256, 4, 4]               0\n",
      "           Conv2d-97            [-1, 256, 4, 4]         589,824\n",
      "           Conv2d-98            [-1, 256, 4, 4]         589,824\n",
      "      BatchNorm2d-99            [-1, 256, 4, 4]             512\n",
      "     BatchNorm2d-100            [-1, 256, 4, 4]             512\n",
      "            ReLU-101            [-1, 256, 4, 4]               0\n",
      "            ReLU-102            [-1, 256, 4, 4]               0\n",
      "      BasicBlock-103            [-1, 256, 4, 4]               0\n",
      "      BasicBlock-104            [-1, 256, 4, 4]               0\n",
      "          Conv2d-105            [-1, 512, 2, 2]       1,179,648\n",
      "          Conv2d-106            [-1, 512, 2, 2]       1,179,648\n",
      "     BatchNorm2d-107            [-1, 512, 2, 2]           1,024\n",
      "     BatchNorm2d-108            [-1, 512, 2, 2]           1,024\n",
      "            ReLU-109            [-1, 512, 2, 2]               0\n",
      "            ReLU-110            [-1, 512, 2, 2]               0\n",
      "          Conv2d-111            [-1, 512, 2, 2]       2,359,296\n",
      "          Conv2d-112            [-1, 512, 2, 2]       2,359,296\n",
      "     BatchNorm2d-113            [-1, 512, 2, 2]           1,024\n",
      "     BatchNorm2d-114            [-1, 512, 2, 2]           1,024\n",
      "          Conv2d-115            [-1, 512, 2, 2]         131,072\n",
      "          Conv2d-116            [-1, 512, 2, 2]         131,072\n",
      "     BatchNorm2d-117            [-1, 512, 2, 2]           1,024\n",
      "     BatchNorm2d-118            [-1, 512, 2, 2]           1,024\n",
      "            ReLU-119            [-1, 512, 2, 2]               0\n",
      "            ReLU-120            [-1, 512, 2, 2]               0\n",
      "      BasicBlock-121            [-1, 512, 2, 2]               0\n",
      "      BasicBlock-122            [-1, 512, 2, 2]               0\n",
      "          Conv2d-123            [-1, 512, 2, 2]       2,359,296\n",
      "          Conv2d-124            [-1, 512, 2, 2]       2,359,296\n",
      "     BatchNorm2d-125            [-1, 512, 2, 2]           1,024\n",
      "     BatchNorm2d-126            [-1, 512, 2, 2]           1,024\n",
      "            ReLU-127            [-1, 512, 2, 2]               0\n",
      "            ReLU-128            [-1, 512, 2, 2]               0\n",
      "          Conv2d-129            [-1, 512, 2, 2]       2,359,296\n",
      "          Conv2d-130            [-1, 512, 2, 2]       2,359,296\n",
      "     BatchNorm2d-131            [-1, 512, 2, 2]           1,024\n",
      "     BatchNorm2d-132            [-1, 512, 2, 2]           1,024\n",
      "            ReLU-133            [-1, 512, 2, 2]               0\n",
      "            ReLU-134            [-1, 512, 2, 2]               0\n",
      "      BasicBlock-135            [-1, 512, 2, 2]               0\n",
      "      BasicBlock-136            [-1, 512, 2, 2]               0\n",
      "          Conv2d-137            [-1, 512, 2, 2]         262,656\n",
      "            ReLU-138            [-1, 512, 2, 2]               0\n",
      "        Upsample-139            [-1, 512, 4, 4]               0\n",
      "          Conv2d-140            [-1, 256, 4, 4]          65,792\n",
      "            ReLU-141            [-1, 256, 4, 4]               0\n",
      "          Conv2d-142            [-1, 512, 4, 4]       3,539,456\n",
      "            ReLU-143            [-1, 512, 4, 4]               0\n",
      "        Upsample-144            [-1, 512, 8, 8]               0\n",
      "          Conv2d-145            [-1, 128, 8, 8]          16,512\n",
      "            ReLU-146            [-1, 128, 8, 8]               0\n",
      "          Conv2d-147            [-1, 256, 8, 8]       1,474,816\n",
      "            ReLU-148            [-1, 256, 8, 8]               0\n",
      "        Upsample-149          [-1, 256, 16, 16]               0\n",
      "          Conv2d-150           [-1, 64, 16, 16]           4,160\n",
      "            ReLU-151           [-1, 64, 16, 16]               0\n",
      "          Conv2d-152          [-1, 256, 16, 16]         737,536\n",
      "            ReLU-153          [-1, 256, 16, 16]               0\n",
      "        Upsample-154          [-1, 256, 32, 32]               0\n",
      "          Conv2d-155           [-1, 64, 32, 32]           4,160\n",
      "            ReLU-156           [-1, 64, 32, 32]               0\n",
      "          Conv2d-157          [-1, 128, 32, 32]         368,768\n",
      "            ReLU-158          [-1, 128, 32, 32]               0\n",
      "        Upsample-159          [-1, 128, 64, 64]               0\n",
      "          Conv2d-160           [-1, 64, 64, 64]         110,656\n",
      "            ReLU-161           [-1, 64, 64, 64]               0\n",
      "          Conv2d-162            [-1, 1, 64, 64]              65\n",
      "================================================================\n",
      "Total params: 28,976,321\n",
      "Trainable params: 28,976,321\n",
      "Non-trainable params: 0\n",
      "----------------------------------------------------------------\n",
      "Input size (MB): 0.05\n",
      "Forward/backward pass size (MB): 33.94\n",
      "Params size (MB): 110.54\n",
      "Estimated Total Size (MB): 144.52\n",
      "----------------------------------------------------------------\n"
     ]
    }
   ],
   "source": [
    "from torchsummary import summary\n",
    "summary(model, input_size=(3,64,64))"
   ]
  },
  {
   "cell_type": "code",
   "execution_count": 19,
   "metadata": {
    "colab": {
     "base_uri": "https://localhost:8080/",
     "height": 1000
    },
    "colab_type": "code",
    "id": "Q1Jthzr7nBel",
    "outputId": "cf566df4-e029-499f-9b7c-db64fea37dd4"
   },
   "outputs": [
    {
     "name": "stderr",
     "output_type": "stream",
     "text": [
      "Clipping input data to the valid range for imshow with RGB data ([0..1] for floats or [0..255] for integers).\n"
     ]
    },
    {
     "name": "stdout",
     "output_type": "stream",
     "text": [
      "Validation -  -- Time Taken -  3.806626796722412\n"
     ]
    },
    {
     "data": {
      "image/png": "[encoded data removed]",
      "text/plain": [
       "<Figure size 1080x1440 with 1 Axes>"
      ]
     },
     "metadata": {
      "needs_background": "light"
     },
     "output_type": "display_data"
    }
   ],
   "source": [
    "import time\n",
    "\n",
    "start = time.time()\n",
    "validate.validate(model, criterion, device, validate_dl)\n",
    "end = time.time()\n",
    "\n",
    "print('Validation - ', '-- Time Taken - ', str(end - start) )"
   ]
  },
  {
   "cell_type": "code",
   "execution_count": null,
   "metadata": {},
   "outputs": [],
   "source": []
  }
 ],
 "metadata": {
  "accelerator": "GPU",
  "colab": {
   "collapsed_sections": [],
   "machine_shape": "hm",
   "name": "Copy_of_Image_Segmentation_ Dice.ipynb",
   "provenance": []
  },
  "environment": {
   "name": "pytorch-gpu.1-4.m46",
   "type": "gcloud",
   "uri": "gcr.io/deeplearning-platform-release/pytorch-gpu.1-4:m46"
  },
  "kernelspec": {
   "display_name": "Python 3",
   "language": "python",
   "name": "python3"
  },
  "language_info": {
   "codemirror_mode": {
    "name": "ipython",
    "version": 3
   },
   "file_extension": ".py",
   "mimetype": "text/x-python",
   "name": "python",
   "nbconvert_exporter": "python",
   "pygments_lexer": "ipython3",
   "version": "3.7.7"
  }
 },
 "nbformat": 4,
 "nbformat_minor": 4
}
