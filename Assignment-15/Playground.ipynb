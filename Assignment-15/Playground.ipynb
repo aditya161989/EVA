{
  "nbformat": 4,
  "nbformat_minor": 0,
  "metadata": {
    "colab": {
      "name": "Playground.ipynb",
      "provenance": [],
      "collapsed_sections": [],
      "machine_shape": "hm"
    },
    "kernelspec": {
      "name": "python3",
      "display_name": "Python 3"
    },
    "accelerator": "GPU"
  },
  "cells": [
    {
      "cell_type": "code",
      "metadata": {
        "id": "rM5eP6fQRleP",
        "colab_type": "code",
        "outputId": "433b5664-0814-4567-acbe-43507c6a8a0c",
        "colab": {
          "base_uri": "https://localhost:8080/",
          "height": 121
        }
      },
      "source": [
        "from google.colab import drive\n",
        "drive.mount('/content/drive')"
      ],
      "execution_count": 1,
      "outputs": [
        {
          "output_type": "stream",
          "text": [
            "Go to this URL in a browser: https://accounts.google.com/o/oauth2/auth?client_id=947318989803-6bn6qk8qdgf4n4g3pfee6491hc0brc4i.apps.googleusercontent.com&redirect_uri=urn%3aietf%3awg%3aoauth%3a2.0%3aoob&response_type=code&scope=email%20https%3a%2f%2fwww.googleapis.com%2fauth%2fdocs.test%20https%3a%2f%2fwww.googleapis.com%2fauth%2fdrive%20https%3a%2f%2fwww.googleapis.com%2fauth%2fdrive.photos.readonly%20https%3a%2f%2fwww.googleapis.com%2fauth%2fpeopleapi.readonly\n",
            "\n",
            "Enter your authorization code:\n",
            "··········\n",
            "Mounted at /content/drive\n"
          ],
          "name": "stdout"
        }
      ]
    },
    {
      "cell_type": "code",
      "metadata": {
        "id": "avnpjK8eSAAS",
        "colab_type": "code",
        "outputId": "f7f0817f-b826-43cc-f609-6912f163ebbf",
        "colab": {
          "base_uri": "https://localhost:8080/",
          "height": 34
        }
      },
      "source": [
        "cd /content/drive/My\\ Drive"
      ],
      "execution_count": 2,
      "outputs": [
        {
          "output_type": "stream",
          "text": [
            "/content/drive/My Drive\n"
          ],
          "name": "stdout"
        }
      ]
    },
    {
      "cell_type": "code",
      "metadata": {
        "id": "ZcAF2G73SEoV",
        "colab_type": "code",
        "outputId": "68e9a844-9c0d-4e4c-9c0d-3d194ca48cc3",
        "colab": {
          "base_uri": "https://localhost:8080/",
          "height": 319
        }
      },
      "source": [
        "!ls"
      ],
      "execution_count": 3,
      "outputs": [
        {
          "output_type": "stream",
          "text": [
            " 52061031.pdf\t\t    'Image Segmentation.ipynb'\n",
            " ADITYA.pdf\t\t     IMG_20200131_213657__01__01.jpg\n",
            " Assignment12\t\t    'kfp images'\n",
            " Assignment-13\t\t     maskoverlay.rar\n",
            "'Assignment 15'\t\t     maskoverlay.zip\n",
            " Assignment-9\t\t     MobileBill_1047681785_249090639_7760630790.pdf\n",
            "'Cat-2014 admit card.pdf'    MobileBill_1047681785_612303333_7760630790.pdf\n",
            "'Colab Notebooks'\t     Model\n",
            " Cover_letter.gdoc\t     overlay.rar\n",
            " data\t\t\t     overlay.zip\n",
            " DenseDepth\t\t    'Pavan Model'\n",
            " DenseDepth1\t\t     PyPackage\n",
            " depth.zip\t\t     runs\n",
            "'Dice Loss Small.ipynb'      test_indices.npy\n",
            "'Google Photos'\t\t     test.jpg\n",
            " Harid_FeatureTracking.pdf   weights\n",
            " hvc_data.zip\t\t     YoloV3_Annotation_Tool\n",
            " hvc_encoded.csv\n"
          ],
          "name": "stdout"
        }
      ]
    },
    {
      "cell_type": "code",
      "metadata": {
        "id": "BBkFVkj1ZS7w",
        "colab_type": "code",
        "colab": {}
      },
      "source": [
        "import torch\n",
        "cuda_check = torch.cuda.is_available()\n",
        "device = torch.device(\"cuda:0\" if cuda_check else \"cpu\")"
      ],
      "execution_count": 0,
      "outputs": []
    },
    {
      "cell_type": "code",
      "metadata": {
        "id": "YeJkkhJNxssr",
        "colab_type": "code",
        "colab": {}
      },
      "source": [
        "import torch\n",
        "import torch.nn as nn\n",
        "from torchvision import models\n",
        "\n",
        "def convrelu(in_channels, out_channels, kernel, padding):\n",
        "    return nn.Sequential(\n",
        "        nn.Conv2d(in_channels, out_channels, kernel, padding=padding),\n",
        "        nn.ReLU(inplace=True),\n",
        "    )\n",
        "\n",
        "\n",
        "class ResNetUNet(nn.Module):\n",
        "    def __init__(self, n_class):\n",
        "        super().__init__()\n",
        "\n",
        "        self.base_model = models.resnet18()\n",
        "        self.base_layers = list(self.base_model.children())\n",
        "\n",
        "        self.layer0 = nn.Sequential(*self.base_layers[:3]) # size=(N, 64, x.H/2, x.W/2)\n",
        "        self.layer0_1x1 = convrelu(64, 64, 1, 0)\n",
        "        self.layer1 = nn.Sequential(*self.base_layers[3:5]) # size=(N, 64, x.H/4, x.W/4)\n",
        "        self.layer1_1x1 = convrelu(64, 64, 1, 0)\n",
        "        self.layer2 = self.base_layers[5]  # size=(N, 128, x.H/8, x.W/8)\n",
        "        self.layer2_1x1 = convrelu(128, 128, 1, 0)\n",
        "        self.layer3 = self.base_layers[6]  # size=(N, 256, x.H/16, x.W/16)\n",
        "        self.layer3_1x1 = convrelu(256, 256, 1, 0)\n",
        "        self.layer4 = self.base_layers[7]  # size=(N, 512, x.H/32, x.W/32)\n",
        "        self.layer4_1x1 = convrelu(512, 512, 1, 0)\n",
        "\n",
        "        self.upsample = nn.Upsample(scale_factor=2, mode='bilinear', align_corners=True)\n",
        "\n",
        "        self.conv_up3 = convrelu(256 + 512, 512, 3, 1)\n",
        "        self.conv_up2 = convrelu(128 + 512, 256, 3, 1)\n",
        "        self.conv_up1 = convrelu(64 + 256, 256, 3, 1)\n",
        "        self.conv_up0 = convrelu(64 + 256, 128, 3, 1)\n",
        "\n",
        "        self.conv_original_size0 = convrelu(3, 64, 3, 1)\n",
        "        self.conv_original_size1 = convrelu(64, 64, 3, 1)\n",
        "        self.conv_original_size2 = convrelu(64 + 128, 64, 3, 1)\n",
        "\n",
        "        self.conv_last = nn.Conv2d(64, n_class, 1)\n",
        "\n",
        "    def forward(self, input):\n",
        "        x_original = self.conv_original_size0(input)\n",
        "        x_original = self.conv_original_size1(x_original)\n",
        "\n",
        "        layer0 = self.layer0(input)\n",
        "        layer1 = self.layer1(layer0)\n",
        "        layer2 = self.layer2(layer1)\n",
        "        layer3 = self.layer3(layer2)\n",
        "        layer4 = self.layer4(layer3)\n",
        "\n",
        "        layer4 = self.layer4_1x1(layer4)\n",
        "        x = self.upsample(layer4)\n",
        "        layer3 = self.layer3_1x1(layer3)\n",
        "        x = torch.cat([x, layer3], dim=1)\n",
        "        x = self.conv_up3(x)\n",
        "\n",
        "        x = self.upsample(x)\n",
        "        layer2 = self.layer2_1x1(layer2)\n",
        "        x = torch.cat([x, layer2], dim=1)\n",
        "        x = self.conv_up2(x)\n",
        "\n",
        "        x = self.upsample(x)\n",
        "        layer1 = self.layer1_1x1(layer1)\n",
        "        x = torch.cat([x, layer1], dim=1)\n",
        "        x = self.conv_up1(x)\n",
        "\n",
        "        x = self.upsample(x)\n",
        "        layer0 = self.layer0_1x1(layer0)\n",
        "        x = torch.cat([x, layer0], dim=1)\n",
        "        x = self.conv_up0(x)\n",
        "\n",
        "        x = self.upsample(x)\n",
        "        x = torch.cat([x, x_original], dim=1)\n",
        "        x = self.conv_original_size2(x)\n",
        "\n",
        "        out = self.conv_last(x)\n",
        "\n",
        "        return out"
      ],
      "execution_count": 0,
      "outputs": []
    },
    {
      "cell_type": "code",
      "metadata": {
        "id": "BZV5lmk4GAaI",
        "colab_type": "code",
        "colab": {}
      },
      "source": [
        "# Define the convolutional block\n",
        "# First we define the convolutional block so we do not need to re-write it every time\n",
        "import torch.nn.functional as F\n",
        "import torch\n",
        "import torch.nn as nn\n",
        "from torchvision import models\n",
        "class conv_block(nn.Module):\n",
        "    \"\"\"\n",
        "    Define the convolutional - batch norm - relu block to avoid re-writing it\n",
        "    every time\n",
        "    \"\"\"\n",
        "\n",
        "    def __init__(self, in_size, out_size, kernel_size=3, padding=1, stride=1):\n",
        "        super(conv_block, self).__init__()\n",
        "        self.conv = nn.Conv2d(in_size, out_size, kernel_size,\n",
        "                              padding=padding, stride=stride)\n",
        "        self.bn = nn.BatchNorm2d(out_size)\n",
        "        self.relu = nn.ReLU(inplace=True)\n",
        "\n",
        "    def forward(self, x):\n",
        "        return self.relu(self.bn(self.conv(x)))\n",
        "\n",
        "\n",
        "# Define the network\n",
        "# Then we define the network keeping in mind that down_1 output size should match with\n",
        "# the scaled output of up_2, while down_2 size should match with the scaled output of the middle \n",
        "# convolution of the u-net model.\n",
        "class small_UNET_256(nn.Module):\n",
        "    \"\"\"\n",
        "    Define UNET model that accepts a 256 input and mostly uses 3x3 kernels\n",
        "    with stride and padding = 1. It reduces the size of the image to 8x8 pixels\n",
        "    ** It might not work if the input 'x' is not a square.\n",
        "    \"\"\"\n",
        "\n",
        "    def __init__(self, n_channels):\n",
        "        super(small_UNET_256, self).__init__()\n",
        "\n",
        "        self.down_1 = nn.Sequential(\n",
        "            conv_block(n_channels, 16),\n",
        "            conv_block(16, 32, stride=2, padding=1))\n",
        "\n",
        "        self.down_2 = nn.Sequential(\n",
        "            conv_block(32, 64),\n",
        "            conv_block(64, 128))\n",
        "\n",
        "        self.middle = conv_block(128, 128, kernel_size=1, padding=0)\n",
        "\n",
        "        self.up_2 = nn.Sequential(\n",
        "            conv_block(256, 128),\n",
        "            conv_block(128, 32))\n",
        "\n",
        "        self.up_1 = nn.Sequential(\n",
        "            conv_block(64, 64),\n",
        "            conv_block(64, 32))\n",
        "\n",
        "        self.output = nn.Sequential(\n",
        "            conv_block(32, 16),\n",
        "            conv_block(16, 1, kernel_size=1, padding=0))\n",
        "\n",
        "    def forward(self, x):\n",
        "        down1 = self.down_1(x)\n",
        "        out = F.max_pool2d(down1, kernel_size=2, stride=2)\n",
        "\n",
        "        down2 = self.down_2(out)\n",
        "        out = F.max_pool2d(down2, kernel_size=2, stride=2)\n",
        "\n",
        "        out = self.middle(out)\n",
        "\n",
        "        out = F.upsample(out, scale_factor=2)\n",
        "        out = torch.cat([down2, out], 1)\n",
        "        out = self.up_2(out)\n",
        "\n",
        "        out = F.upsample(out, scale_factor=2)\n",
        "        out = torch.cat([down1, out], 1)\n",
        "        out = self.up_1(out)\n",
        "\n",
        "        out = F.upsample(out, scale_factor=2)\n",
        "        return self.output(out)"
      ],
      "execution_count": 0,
      "outputs": []
    },
    {
      "cell_type": "code",
      "metadata": {
        "id": "k4CFw0QIUDcI",
        "colab_type": "code",
        "colab": {}
      },
      "source": [
        "class Hybrid(nn.Module):\n",
        "  def __init__(self):\n",
        "    super(Hybrid, self).__init__()\n",
        "    self.model1 = small_UNET_256(n_channels = 3)\n",
        "    self.model2 = small_UNET_256( n_channels= 4)\n",
        "    self.merge = nn.Conv2d(4, 1, 1,\n",
        "                              padding=0)  \n",
        "  \n",
        "  def forward(self, x):\n",
        "    # seg = self.model1(x)\n",
        "    # cat = torch.cat((x,seg),1)\n",
        "    dep = self.model1(x)\n",
        "    # print(dep.shape)\n",
        "    # dep = self.merge(dep)\n",
        "\n",
        "    return dep\n",
        "\n"
      ],
      "execution_count": 0,
      "outputs": []
    },
    {
      "cell_type": "code",
      "metadata": {
        "id": "jKTKZ6tsP8Lv",
        "colab_type": "code",
        "colab": {}
      },
      "source": [
        "import os\n",
        "import glob\n",
        "from torch.utils.data import Dataset\n",
        "from PIL import Image\n",
        "import PIL.ImageOps \n",
        "class DataProducer(Dataset):\n",
        "    def __init__(self, root_folder, transformFG=None, transformRest=None):\n",
        "        \n",
        "        self.background_images = list((root_folder / 'bg').glob('*.jpg'))\n",
        "        self.foreground_images = list((root_folder / 'fg').glob('*.jpg'))\n",
        "        self.mask_images = list((root_folder / 'mask').glob('*.jpg'))\n",
        "        self.depth_images = list((root_folder / 'depth').glob('*.jpg'))\n",
        "        self.transform = transformFG\n",
        "        self.transformRest = transformRest\n",
        "    \n",
        "    def __len__(self):\n",
        "        return len(self.foreground_images)\n",
        "    \n",
        "    def __getitem__(self, index):\n",
        "        fg_image = Image.open(self.foreground_images[index])\n",
        "        fg_image = fg_image.resize((64,64))\n",
        "        # print(self.foreground_images[index])\n",
        "        bg_image = Image.open(self.get_background_image(self.foreground_images[index]))\n",
        "        bg_image = bg_image.resize((64,64))\n",
        "        mask_image = Image.open(self.get_mask_image(self.foreground_images[index])).convert('L')\n",
        "        mask_image = mask_image.resize((64,64))\n",
        "        depth_image = Image.open(self.get_depth_image(self.foreground_images[index])).convert('L')\n",
        "        depth_image = PIL.ImageOps.invert(depth_image)\n",
        "        depth_image = depth_image.resize((64,64))\n",
        "        # Do transformation\n",
        "        \n",
        "        # if self.transform:\n",
        "        fg_image = self.transform(fg_image)\n",
        "        bg_image = self.transformRest(bg_image)\n",
        "        mask_image = self.transformRest(mask_image)\n",
        "        depth_image = self.transformRest(depth_image)\n",
        "        \n",
        "        return { 'bg': bg_image, 'fg': fg_image, 'mask' : mask_image, 'depth': depth_image}\n",
        "    \n",
        "    def get_background_image(self, fg_image_path):\n",
        "        file_name = str(fg_image_path).lstrip('data/fg/')\n",
        "        # print('file after lstrip', file_name)\n",
        "        index = file_name.find('_')\n",
        "#         if ( index == -1)\n",
        "        file_name = file_name[:index] + '.jpg'\n",
        "        # print(file_name)\n",
        "        return root_folder / 'bg' / file_name\n",
        "    \n",
        "    def get_mask_image(self, fg_image_path):\n",
        "        file_name = 'mask_' + str(fg_image_path).lstrip('data/fg/')\n",
        "        # print('mask file - ' , file_name)\n",
        "        return root_folder / 'mask' / file_name\n",
        "\n",
        "    def get_depth_image(self, fg_image_path):\n",
        "        file_name = 'depth_' + str(fg_image_path).lstrip('data/fg/')\n",
        "        # print('mask file - ' , file_name)\n",
        "        return root_folder / 'depth' / file_name\n",
        "                                         "
      ],
      "execution_count": 0,
      "outputs": []
    },
    {
      "cell_type": "code",
      "metadata": {
        "id": "EUHlhRzPTBYO",
        "colab_type": "code",
        "colab": {}
      },
      "source": [
        "from torchvision.transforms import transforms\n",
        "\n",
        "transform = transforms.Compose([\n",
        "                                 transforms.ToTensor(),\n",
        "                                 transforms.Normalize((0.49737222, 0.49328762, 0.46562814), (0.21714624, 0.21749634, 0.23051126)),\n",
        "                                 \n",
        "])"
      ],
      "execution_count": 0,
      "outputs": []
    },
    {
      "cell_type": "code",
      "metadata": {
        "id": "XvI_KDpcyuzo",
        "colab_type": "code",
        "colab": {}
      },
      "source": [
        "from torchvision.transforms import transforms\n",
        "\n",
        "transformRest = transforms.Compose([\n",
        "             \n",
        "                                 transforms.ToTensor(),\n",
        "])"
      ],
      "execution_count": 0,
      "outputs": []
    },
    {
      "cell_type": "code",
      "metadata": {
        "id": "e0Ky2M98QFjY",
        "colab_type": "code",
        "colab": {}
      },
      "source": [
        "from torchvision.transforms import transforms\n",
        "from pathlib import Path\n",
        "root_folder = Path('./data/')#os.path.join(os.getcwd(),'data')\n",
        "train_set = DataProducer(root_folder, transform, transformRest)"
      ],
      "execution_count": 0,
      "outputs": []
    },
    {
      "cell_type": "code",
      "metadata": {
        "id": "xQdZivsjp-Si",
        "colab_type": "code",
        "outputId": "a8e05d45-0b33-43cc-9f46-364bfa472f64",
        "colab": {
          "base_uri": "https://localhost:8080/",
          "height": 34
        }
      },
      "source": [
        "print(root_folder)"
      ],
      "execution_count": 12,
      "outputs": [
        {
          "output_type": "stream",
          "text": [
            "data\n"
          ],
          "name": "stdout"
        }
      ]
    },
    {
      "cell_type": "code",
      "metadata": {
        "id": "LY3Cf2PiWxG_",
        "colab_type": "code",
        "colab": {}
      },
      "source": [
        "# a  = train_set[0][\"mask\"]\n",
        "# b = a.reshape(1,1,64,64)\n",
        "# a = a.reshape(1,1,64,64)\n",
        "# c = torch.cat((a,b),dim=1)\n",
        "# print(c.shape)\n",
        "\n"
      ],
      "execution_count": 0,
      "outputs": []
    },
    {
      "cell_type": "code",
      "metadata": {
        "id": "LmRLIVmaB5iL",
        "colab_type": "code",
        "colab": {}
      },
      "source": [
        "# import matplotlib.pyplot as plt\n",
        "# import torchvision\n",
        "# # plt.title('Plots')\n",
        "\n",
        "# f, axarr = plt.subplots(1,2)\n",
        "\n",
        "# axarr[0].set_title('Epoch : {}'.format(10))\n",
        "# axarr[0].imshow(torchvision.utils.make_grid(train_set[0][\"fg\"]).permute(1, 2, 0))\n",
        "# axarr[1].imshow(torchvision.utils.make_grid(train_set[0][\"depth\"]).permute(1, 2, 0))\n",
        "# plt.axis('off')\n",
        "\n",
        "# plt.savefig('test.jpg')\n",
        "# plt.show()"
      ],
      "execution_count": 0,
      "outputs": []
    },
    {
      "cell_type": "code",
      "metadata": {
        "id": "kOSdI3iFruPt",
        "colab_type": "code",
        "outputId": "6fc2b074-aebc-41cf-f54f-39f605bcf1cb",
        "colab": {
          "base_uri": "https://localhost:8080/",
          "height": 134
        }
      },
      "source": [
        "!pip install --upgrade matplotlib"
      ],
      "execution_count": 15,
      "outputs": [
        {
          "output_type": "stream",
          "text": [
            "Requirement already up-to-date: matplotlib in /usr/local/lib/python3.6/dist-packages (3.2.1)\n",
            "Requirement already satisfied, skipping upgrade: python-dateutil>=2.1 in /usr/local/lib/python3.6/dist-packages (from matplotlib) (2.8.1)\n",
            "Requirement already satisfied, skipping upgrade: kiwisolver>=1.0.1 in /usr/local/lib/python3.6/dist-packages (from matplotlib) (1.2.0)\n",
            "Requirement already satisfied, skipping upgrade: pyparsing!=2.0.4,!=2.1.2,!=2.1.6,>=2.0.1 in /usr/local/lib/python3.6/dist-packages (from matplotlib) (2.4.7)\n",
            "Requirement already satisfied, skipping upgrade: cycler>=0.10 in /usr/local/lib/python3.6/dist-packages (from matplotlib) (0.10.0)\n",
            "Requirement already satisfied, skipping upgrade: numpy>=1.11 in /usr/local/lib/python3.6/dist-packages (from matplotlib) (1.18.4)\n",
            "Requirement already satisfied, skipping upgrade: six>=1.5 in /usr/local/lib/python3.6/dist-packages (from python-dateutil>=2.1->matplotlib) (1.12.0)\n"
          ],
          "name": "stdout"
        }
      ]
    },
    {
      "cell_type": "code",
      "metadata": {
        "id": "zRQlNcMCqd2G",
        "colab_type": "code",
        "colab": {}
      },
      "source": [
        "# import matplotlib.pyplot as plt\n",
        "# import matplotlib.gridspec as gridspec\n",
        "\n",
        "# plt.figure(figsize = (10,10))\n",
        "\n",
        "# gs1 = gridspec.GridSpec(4, 4)\n",
        "# gs1.update(wspace=0, hspace=0) # set the spacing between axes. \n",
        "\n",
        "# for i in range(16):\n",
        "#    # i = i + 1 # grid spec indexes from 0\n",
        "#     ax1 = plt.subplot(gs1[i])\n",
        "#     plt.axis('on')\n",
        "#     ax1.set_xticklabels([])\n",
        "#     ax1.set_yticklabels([])\n",
        "#     ax1.set_aspect('equal')\n",
        "#     ax1.imshow(torchvision.utils.make_grid(train_set[i][\"depth\"]).permute(1, 2, 0))\n",
        "# plt.suptitle('Original Image')\n",
        "# plt.show()"
      ],
      "execution_count": 0,
      "outputs": []
    },
    {
      "cell_type": "code",
      "metadata": {
        "id": "ooOHyfNuQIPe",
        "colab_type": "code",
        "colab": {}
      },
      "source": [
        "from torch.utils.data import DataLoader\n",
        "train_dl = DataLoader(train_set, batch_size=16, shuffle= False)"
      ],
      "execution_count": 0,
      "outputs": []
    },
    {
      "cell_type": "code",
      "metadata": {
        "id": "6_CdZgKoQJF6",
        "colab_type": "code",
        "colab": {}
      },
      "source": [
        "# sample = next(iter(train_dl))"
      ],
      "execution_count": 0,
      "outputs": []
    },
    {
      "cell_type": "code",
      "metadata": {
        "id": "3zYSKYZIV3-U",
        "colab_type": "code",
        "colab": {}
      },
      "source": [
        "# criterion = torch.nn.SmoothL1Loss()"
      ],
      "execution_count": 0,
      "outputs": []
    },
    {
      "cell_type": "code",
      "metadata": {
        "id": "p1UfXPrgXU9K",
        "colab_type": "code",
        "colab": {}
      },
      "source": [
        "import torch\n",
        "import torch.nn as nn\n",
        "\n",
        "def dice_loss(pred, target, smooth = 1.):\n",
        "    pred = pred.contiguous()\n",
        "    target = target.contiguous()    \n",
        "\n",
        "    intersection = (pred * target).sum(dim=2).sum(dim=2)\n",
        "    \n",
        "    loss = (1 - ((2. * intersection + smooth) / (pred.sum(dim=2).sum(dim=2) + target.sum(dim=2).sum(dim=2) + smooth)))\n",
        "    \n",
        "    return loss.mean()"
      ],
      "execution_count": 0,
      "outputs": []
    },
    {
      "cell_type": "code",
      "metadata": {
        "id": "TMBjBMXhXedD",
        "colab_type": "code",
        "colab": {}
      },
      "source": [
        "# criterion = dice_loss"
      ],
      "execution_count": 0,
      "outputs": []
    },
    {
      "cell_type": "code",
      "metadata": {
        "id": "nsWWvuJuXcYx",
        "colab_type": "code",
        "colab": {}
      },
      "source": [
        "model = ResNetUNet(n_class=1)\n",
        "# model = small_UNET_256(n_channels=3)\n",
        "# model = Hybrid()\n",
        "model = model.to(device)"
      ],
      "execution_count": 0,
      "outputs": []
    },
    {
      "cell_type": "code",
      "metadata": {
        "id": "ZGXsT1eVXho3",
        "colab_type": "code",
        "outputId": "e32f65b7-af20-4f0e-9630-21bc7df4a71c",
        "colab": {
          "base_uri": "https://localhost:8080/",
          "height": 1000
        }
      },
      "source": [
        "from torchsummary import summary\n",
        "summary(model, input_size=(3,64,64))"
      ],
      "execution_count": 23,
      "outputs": [
        {
          "output_type": "stream",
          "text": [
            "----------------------------------------------------------------\n",
            "        Layer (type)               Output Shape         Param #\n",
            "================================================================\n",
            "            Conv2d-1           [-1, 64, 64, 64]           1,792\n",
            "              ReLU-2           [-1, 64, 64, 64]               0\n",
            "            Conv2d-3           [-1, 64, 64, 64]          36,928\n",
            "              ReLU-4           [-1, 64, 64, 64]               0\n",
            "            Conv2d-5           [-1, 64, 32, 32]           9,408\n",
            "            Conv2d-6           [-1, 64, 32, 32]           9,408\n",
            "       BatchNorm2d-7           [-1, 64, 32, 32]             128\n",
            "       BatchNorm2d-8           [-1, 64, 32, 32]             128\n",
            "              ReLU-9           [-1, 64, 32, 32]               0\n",
            "             ReLU-10           [-1, 64, 32, 32]               0\n",
            "        MaxPool2d-11           [-1, 64, 16, 16]               0\n",
            "        MaxPool2d-12           [-1, 64, 16, 16]               0\n",
            "           Conv2d-13           [-1, 64, 16, 16]          36,864\n",
            "           Conv2d-14           [-1, 64, 16, 16]          36,864\n",
            "      BatchNorm2d-15           [-1, 64, 16, 16]             128\n",
            "      BatchNorm2d-16           [-1, 64, 16, 16]             128\n",
            "             ReLU-17           [-1, 64, 16, 16]               0\n",
            "             ReLU-18           [-1, 64, 16, 16]               0\n",
            "           Conv2d-19           [-1, 64, 16, 16]          36,864\n",
            "           Conv2d-20           [-1, 64, 16, 16]          36,864\n",
            "      BatchNorm2d-21           [-1, 64, 16, 16]             128\n",
            "      BatchNorm2d-22           [-1, 64, 16, 16]             128\n",
            "             ReLU-23           [-1, 64, 16, 16]               0\n",
            "             ReLU-24           [-1, 64, 16, 16]               0\n",
            "       BasicBlock-25           [-1, 64, 16, 16]               0\n",
            "       BasicBlock-26           [-1, 64, 16, 16]               0\n",
            "           Conv2d-27           [-1, 64, 16, 16]          36,864\n",
            "           Conv2d-28           [-1, 64, 16, 16]          36,864\n",
            "      BatchNorm2d-29           [-1, 64, 16, 16]             128\n",
            "      BatchNorm2d-30           [-1, 64, 16, 16]             128\n",
            "             ReLU-31           [-1, 64, 16, 16]               0\n",
            "             ReLU-32           [-1, 64, 16, 16]               0\n",
            "           Conv2d-33           [-1, 64, 16, 16]          36,864\n",
            "           Conv2d-34           [-1, 64, 16, 16]          36,864\n",
            "      BatchNorm2d-35           [-1, 64, 16, 16]             128\n",
            "      BatchNorm2d-36           [-1, 64, 16, 16]             128\n",
            "             ReLU-37           [-1, 64, 16, 16]               0\n",
            "             ReLU-38           [-1, 64, 16, 16]               0\n",
            "       BasicBlock-39           [-1, 64, 16, 16]               0\n",
            "       BasicBlock-40           [-1, 64, 16, 16]               0\n",
            "           Conv2d-41            [-1, 128, 8, 8]          73,728\n",
            "           Conv2d-42            [-1, 128, 8, 8]          73,728\n",
            "      BatchNorm2d-43            [-1, 128, 8, 8]             256\n",
            "      BatchNorm2d-44            [-1, 128, 8, 8]             256\n",
            "             ReLU-45            [-1, 128, 8, 8]               0\n",
            "             ReLU-46            [-1, 128, 8, 8]               0\n",
            "           Conv2d-47            [-1, 128, 8, 8]         147,456\n",
            "           Conv2d-48            [-1, 128, 8, 8]         147,456\n",
            "      BatchNorm2d-49            [-1, 128, 8, 8]             256\n",
            "      BatchNorm2d-50            [-1, 128, 8, 8]             256\n",
            "           Conv2d-51            [-1, 128, 8, 8]           8,192\n",
            "           Conv2d-52            [-1, 128, 8, 8]           8,192\n",
            "      BatchNorm2d-53            [-1, 128, 8, 8]             256\n",
            "      BatchNorm2d-54            [-1, 128, 8, 8]             256\n",
            "             ReLU-55            [-1, 128, 8, 8]               0\n",
            "             ReLU-56            [-1, 128, 8, 8]               0\n",
            "       BasicBlock-57            [-1, 128, 8, 8]               0\n",
            "       BasicBlock-58            [-1, 128, 8, 8]               0\n",
            "           Conv2d-59            [-1, 128, 8, 8]         147,456\n",
            "           Conv2d-60            [-1, 128, 8, 8]         147,456\n",
            "      BatchNorm2d-61            [-1, 128, 8, 8]             256\n",
            "      BatchNorm2d-62            [-1, 128, 8, 8]             256\n",
            "             ReLU-63            [-1, 128, 8, 8]               0\n",
            "             ReLU-64            [-1, 128, 8, 8]               0\n",
            "           Conv2d-65            [-1, 128, 8, 8]         147,456\n",
            "           Conv2d-66            [-1, 128, 8, 8]         147,456\n",
            "      BatchNorm2d-67            [-1, 128, 8, 8]             256\n",
            "      BatchNorm2d-68            [-1, 128, 8, 8]             256\n",
            "             ReLU-69            [-1, 128, 8, 8]               0\n",
            "             ReLU-70            [-1, 128, 8, 8]               0\n",
            "       BasicBlock-71            [-1, 128, 8, 8]               0\n",
            "       BasicBlock-72            [-1, 128, 8, 8]               0\n",
            "           Conv2d-73            [-1, 256, 4, 4]         294,912\n",
            "           Conv2d-74            [-1, 256, 4, 4]         294,912\n",
            "      BatchNorm2d-75            [-1, 256, 4, 4]             512\n",
            "      BatchNorm2d-76            [-1, 256, 4, 4]             512\n",
            "             ReLU-77            [-1, 256, 4, 4]               0\n",
            "             ReLU-78            [-1, 256, 4, 4]               0\n",
            "           Conv2d-79            [-1, 256, 4, 4]         589,824\n",
            "           Conv2d-80            [-1, 256, 4, 4]         589,824\n",
            "      BatchNorm2d-81            [-1, 256, 4, 4]             512\n",
            "      BatchNorm2d-82            [-1, 256, 4, 4]             512\n",
            "           Conv2d-83            [-1, 256, 4, 4]          32,768\n",
            "           Conv2d-84            [-1, 256, 4, 4]          32,768\n",
            "      BatchNorm2d-85            [-1, 256, 4, 4]             512\n",
            "      BatchNorm2d-86            [-1, 256, 4, 4]             512\n",
            "             ReLU-87            [-1, 256, 4, 4]               0\n",
            "             ReLU-88            [-1, 256, 4, 4]               0\n",
            "       BasicBlock-89            [-1, 256, 4, 4]               0\n",
            "       BasicBlock-90            [-1, 256, 4, 4]               0\n",
            "           Conv2d-91            [-1, 256, 4, 4]         589,824\n",
            "           Conv2d-92            [-1, 256, 4, 4]         589,824\n",
            "      BatchNorm2d-93            [-1, 256, 4, 4]             512\n",
            "      BatchNorm2d-94            [-1, 256, 4, 4]             512\n",
            "             ReLU-95            [-1, 256, 4, 4]               0\n",
            "             ReLU-96            [-1, 256, 4, 4]               0\n",
            "           Conv2d-97            [-1, 256, 4, 4]         589,824\n",
            "           Conv2d-98            [-1, 256, 4, 4]         589,824\n",
            "      BatchNorm2d-99            [-1, 256, 4, 4]             512\n",
            "     BatchNorm2d-100            [-1, 256, 4, 4]             512\n",
            "            ReLU-101            [-1, 256, 4, 4]               0\n",
            "            ReLU-102            [-1, 256, 4, 4]               0\n",
            "      BasicBlock-103            [-1, 256, 4, 4]               0\n",
            "      BasicBlock-104            [-1, 256, 4, 4]               0\n",
            "          Conv2d-105            [-1, 512, 2, 2]       1,179,648\n",
            "          Conv2d-106            [-1, 512, 2, 2]       1,179,648\n",
            "     BatchNorm2d-107            [-1, 512, 2, 2]           1,024\n",
            "     BatchNorm2d-108            [-1, 512, 2, 2]           1,024\n",
            "            ReLU-109            [-1, 512, 2, 2]               0\n",
            "            ReLU-110            [-1, 512, 2, 2]               0\n",
            "          Conv2d-111            [-1, 512, 2, 2]       2,359,296\n",
            "          Conv2d-112            [-1, 512, 2, 2]       2,359,296\n",
            "     BatchNorm2d-113            [-1, 512, 2, 2]           1,024\n",
            "     BatchNorm2d-114            [-1, 512, 2, 2]           1,024\n",
            "          Conv2d-115            [-1, 512, 2, 2]         131,072\n",
            "          Conv2d-116            [-1, 512, 2, 2]         131,072\n",
            "     BatchNorm2d-117            [-1, 512, 2, 2]           1,024\n",
            "     BatchNorm2d-118            [-1, 512, 2, 2]           1,024\n",
            "            ReLU-119            [-1, 512, 2, 2]               0\n",
            "            ReLU-120            [-1, 512, 2, 2]               0\n",
            "      BasicBlock-121            [-1, 512, 2, 2]               0\n",
            "      BasicBlock-122            [-1, 512, 2, 2]               0\n",
            "          Conv2d-123            [-1, 512, 2, 2]       2,359,296\n",
            "          Conv2d-124            [-1, 512, 2, 2]       2,359,296\n",
            "     BatchNorm2d-125            [-1, 512, 2, 2]           1,024\n",
            "     BatchNorm2d-126            [-1, 512, 2, 2]           1,024\n",
            "            ReLU-127            [-1, 512, 2, 2]               0\n",
            "            ReLU-128            [-1, 512, 2, 2]               0\n",
            "          Conv2d-129            [-1, 512, 2, 2]       2,359,296\n",
            "          Conv2d-130            [-1, 512, 2, 2]       2,359,296\n",
            "     BatchNorm2d-131            [-1, 512, 2, 2]           1,024\n",
            "     BatchNorm2d-132            [-1, 512, 2, 2]           1,024\n",
            "            ReLU-133            [-1, 512, 2, 2]               0\n",
            "            ReLU-134            [-1, 512, 2, 2]               0\n",
            "      BasicBlock-135            [-1, 512, 2, 2]               0\n",
            "      BasicBlock-136            [-1, 512, 2, 2]               0\n",
            "          Conv2d-137            [-1, 512, 2, 2]         262,656\n",
            "            ReLU-138            [-1, 512, 2, 2]               0\n",
            "        Upsample-139            [-1, 512, 4, 4]               0\n",
            "          Conv2d-140            [-1, 256, 4, 4]          65,792\n",
            "            ReLU-141            [-1, 256, 4, 4]               0\n",
            "          Conv2d-142            [-1, 512, 4, 4]       3,539,456\n",
            "            ReLU-143            [-1, 512, 4, 4]               0\n",
            "        Upsample-144            [-1, 512, 8, 8]               0\n",
            "          Conv2d-145            [-1, 128, 8, 8]          16,512\n",
            "            ReLU-146            [-1, 128, 8, 8]               0\n",
            "          Conv2d-147            [-1, 256, 8, 8]       1,474,816\n",
            "            ReLU-148            [-1, 256, 8, 8]               0\n",
            "        Upsample-149          [-1, 256, 16, 16]               0\n",
            "          Conv2d-150           [-1, 64, 16, 16]           4,160\n",
            "            ReLU-151           [-1, 64, 16, 16]               0\n",
            "          Conv2d-152          [-1, 256, 16, 16]         737,536\n",
            "            ReLU-153          [-1, 256, 16, 16]               0\n",
            "        Upsample-154          [-1, 256, 32, 32]               0\n",
            "          Conv2d-155           [-1, 64, 32, 32]           4,160\n",
            "            ReLU-156           [-1, 64, 32, 32]               0\n",
            "          Conv2d-157          [-1, 128, 32, 32]         368,768\n",
            "            ReLU-158          [-1, 128, 32, 32]               0\n",
            "        Upsample-159          [-1, 128, 64, 64]               0\n",
            "          Conv2d-160           [-1, 64, 64, 64]         110,656\n",
            "            ReLU-161           [-1, 64, 64, 64]               0\n",
            "          Conv2d-162            [-1, 1, 64, 64]              65\n",
            "================================================================\n",
            "Total params: 28,976,321\n",
            "Trainable params: 28,976,321\n",
            "Non-trainable params: 0\n",
            "----------------------------------------------------------------\n",
            "Input size (MB): 0.05\n",
            "Forward/backward pass size (MB): 33.94\n",
            "Params size (MB): 110.54\n",
            "Estimated Total Size (MB): 144.52\n",
            "----------------------------------------------------------------\n"
          ],
          "name": "stdout"
        }
      ]
    },
    {
      "cell_type": "code",
      "metadata": {
        "id": "swdivLSrNcnZ",
        "colab_type": "code",
        "colab": {}
      },
      "source": [
        "# from torch.utils.tensorboard import SummaryWriter\n",
        "# writer = SummaryWriter('runs')\n",
        "# writer.add_scalar('training loss', 10)\n"
      ],
      "execution_count": 0,
      "outputs": []
    },
    {
      "cell_type": "code",
      "metadata": {
        "id": "jNwVmlCsrsdH",
        "colab_type": "code",
        "colab": {}
      },
      "source": [
        "# import matplotlib.pyplot as plt\n",
        "# import torchvision\n",
        "# import matplotlib.gridspec as gridspec\n",
        "# def show(segment_tensors, depth_tensors, original_seg_tensors, original_depth_tensors, epoch, fig_size=(10,10), *args, **kwargs):\n",
        "#   # try:\n",
        "#   #   tensors = tensors.detach().cpu()\n",
        "#   # except:\n",
        "#   #   pass\n",
        "#   # grid_tensor = torchvision.utils.make_grid(output_tensors, *args, **kwargs)\n",
        "#   # grid_image = grid_tensor.permute(1,2,0)\n",
        "#   # # plt.figure(fig_size=fig_size)\n",
        "#   # # print(tensors.shape)\n",
        "#   # # print(tensors[0].shape)\n",
        "#   # # plt.imshow(torchvision.utils.make_grid(tensors[0]).permute(1,2,0))\n",
        "#   # # plt.show()\n",
        "#   # f, axarr = plt.subplots(2,2)\n",
        "#   # axarr[0,0].imshow(torchvision.utils.make_grid(original_tensors[0]).permute(1, 2, 0))\n",
        "#   # axarr[0,0].set_title('Epoch : {}'.format(epoch))\n",
        "#   # axarr[0,1].imshow(torchvision.utils.make_grid(output_tensors[0]).permute(1, 2, 0))\n",
        "#   # axarr[1,0].imshow(torchvision.utils.make_grid(original_tensors[1]).permute(1, 2, 0))\n",
        "#   # axarr[1,1].imshow(torchvision.utils.make_grid(output_tensors[1]).permute(1, 2, 0))\n",
        "#   # import matplotlib.pyplot as plt\n",
        "\n",
        "#   size = 10\n",
        "#   plt.figure(figsize = (10,10))\n",
        "#   if segment_tensors.shape[0] < size:\n",
        "#     size = segment_tensors.shape[0]\n",
        "#   gs1 = gridspec.GridSpec(1, size)\n",
        "#   gs1.update(wspace=0, hspace=0) # set the spacing between axes. \n",
        "\n",
        "#   # for i in range(size):\n",
        "\n",
        "#   #  # i = i + 1 # grid spec indexes from 0\n",
        "#   #   ax1 = plt.subplot(gs1[i])\n",
        "#   #   plt.axis('on')\n",
        "#   #   ax1.set_xticklabels([])\n",
        "#   #   ax1.set_yticklabels([])\n",
        "#   #   ax1.set_aspect('equal')\n",
        "#   #   ax1.imshow(torchvision.utils.make_grid(original_seg_tensors[i]).permute(1, 2, 0))\n",
        "#   # plt.suptitle('Epoch : {} -- Original Images'.format(epoch))\n",
        "#   # plt.show()\n",
        "#   # # writer.add_image('Original Image', gs1, epoch)\n",
        "#   # plt.figure(figsize = (10,10))\n",
        "\n",
        "#   # gs1 = gridspec.GridSpec(1, size)\n",
        "#   # gs1.update(wspace=0, hspace=0) # set the spacing between axes. \n",
        "\n",
        "#   # for i in range(size):\n",
        "\n",
        "#   #  # i = i + 1 # grid spec indexes from 0\n",
        "#   #   ax1 = plt.subplot(gs1[i])\n",
        "#   #   plt.axis('on')\n",
        "#   #   ax1.set_xticklabels([])\n",
        "#   #   ax1.set_yticklabels([])\n",
        "#   #   ax1.set_aspect('equal')\n",
        "#   #   ax1.imshow(torchvision.utils.make_grid(segment_tensors[i]).permute(1, 2, 0))\n",
        "#   # plt.suptitle('Epoch : {} -- Predicted Images'.format(epoch))\n",
        "#   # plt.show()\n",
        "\n",
        "#   plt.figure(figsize = (10,10))\n",
        "#   gs1 = gridspec.GridSpec(1, size)\n",
        "#   gs1.update(wspace=0, hspace=0) # set the spacing between axes. \n",
        "\n",
        "#   for i in range(size):\n",
        "\n",
        "#    # i = i + 1 # grid spec indexes from 0\n",
        "#     ax1 = plt.subplot(gs1[i])\n",
        "#     plt.axis('on')\n",
        "#     ax1.set_xticklabels([])\n",
        "#     ax1.set_yticklabels([])\n",
        "#     ax1.set_aspect('equal')\n",
        "#     ax1.imshow(torchvision.utils.make_grid(original_depth_tensors[i]).permute(1, 2, 0))\n",
        "#   plt.suptitle('Epoch : {} -- Original Images'.format(epoch))\n",
        "#   plt.show()\n",
        "#   # writer.add_image('Original Image', gs1, epoch)\n",
        "#   plt.figure(figsize = (10,10))\n",
        "\n",
        "#   gs1 = gridspec.GridSpec(1, size)\n",
        "#   gs1.update(wspace=0, hspace=0) # set the spacing between axes. \n",
        "\n",
        "#   for i in range(size):\n",
        "\n",
        "#    # i = i + 1 # grid spec indexes from 0\n",
        "#     ax1 = plt.subplot(gs1[i])\n",
        "#     plt.axis('on')\n",
        "#     ax1.set_xticklabels([])\n",
        "#     ax1.set_yticklabels([])\n",
        "#     ax1.set_aspect('equal')\n",
        "#     ax1.imshow(torchvision.utils.make_grid(depth_tensors[i]).permute(1, 2, 0))\n",
        "#   plt.suptitle('Epoch : {} -- Predicted Images'.format(epoch))\n",
        "#   plt.show()"
      ],
      "execution_count": 0,
      "outputs": []
    },
    {
      "cell_type": "code",
      "metadata": {
        "id": "EaIVswcoUXNf",
        "colab_type": "code",
        "colab": {}
      },
      "source": [
        "import matplotlib.pyplot as plt\n",
        "import torchvision\n",
        "import matplotlib.gridspec as gridspec\n",
        "def show(segment_tensors, depth_tensors, original_seg_tensors, original_depth_tensors, epoch, fig_size=(10,10), *args, **kwargs):\n",
        "  size = 10\n",
        "  plt.figure(figsize = (10,10))\n",
        "  if segment_tensors.shape[0] < size:\n",
        "    size = segment_tensors.shape[0]\n",
        "  gs1 = gridspec.GridSpec(2, size)\n",
        "  gs1.update(wspace=0, hspace=0) # set the spacing between axes. \n",
        "\n",
        "  counter = -1\n",
        "\n",
        "  # for i in range(size):\n",
        "\n",
        "  #   counter = counter + 1\n",
        "  #   ax1 = plt.subplot(gs1[counter])\n",
        "  #   plt.axis('on')\n",
        "  #   ax1.set_xticklabels([])\n",
        "  #   ax1.set_yticklabels([])\n",
        "  #   ax1.set_aspect('equal')\n",
        "  #   ax1.imshow(torchvision.utils.make_grid(original_seg_tensors[i]).permute(1, 2, 0))\n",
        "\n",
        "  # for i in range(size):\n",
        "  #   counter = counter + 1\n",
        "  #   ax1 = plt.subplot(gs1[counter])\n",
        "  #   plt.axis('on')\n",
        "  #   ax1.set_xticklabels([])\n",
        "  #   ax1.set_yticklabels([])\n",
        "  #   ax1.set_aspect('equal')\n",
        "  #   ax1.imshow(torchvision.utils.make_grid(segment_tensors[i]).permute(1, 2, 0))\n",
        "\n",
        "  for i in range(size):\n",
        "    counter = counter + 1\n",
        "    ax1 = plt.subplot(gs1[counter])\n",
        "    plt.axis('on')\n",
        "    ax1.set_xticklabels([])\n",
        "    ax1.set_yticklabels([])\n",
        "    ax1.set_aspect('equal')\n",
        "    ax1.imshow(torchvision.utils.make_grid(original_depth_tensors[i]).permute(1, 2, 0))\n",
        "\n",
        "\n",
        "  for i in range(size):\n",
        "    counter = counter + 1\n",
        "    ax1 = plt.subplot(gs1[counter])\n",
        "    plt.axis('on')\n",
        "    ax1.set_xticklabels([])\n",
        "    ax1.set_yticklabels([])\n",
        "    ax1.set_aspect('equal')\n",
        "    ax1.imshow(torchvision.utils.make_grid(depth_tensors[i]).permute(1, 2, 0))\n",
        "  \n",
        "\n",
        "  # fig, ax = plt.subplots(nrows=2, ncols=size, sharex=True, sharey=True,)\n",
        "  # ax = ax.flatten()\n",
        "      \n",
        "  # for jdx in range(size): \n",
        "  #   ax[0,jdx].imshow(torchvision.utils.make_grid(original_depth_tensors[jdx]).permute(1, 2, 0))\n",
        "  #   ax[1,jdx].imshow(torchvision.utils.make_grid(depth_tensors[jdx]).permute(1, 2, 0))\n",
        "  plt.show()"
      ],
      "execution_count": 0,
      "outputs": []
    },
    {
      "cell_type": "code",
      "metadata": {
        "id": "fkLXqviy63fI",
        "colab_type": "code",
        "outputId": "ccbae447-e7d9-4534-eb40-6d0545715941",
        "colab": {
          "base_uri": "https://localhost:8080/",
          "height": 34
        }
      },
      "source": [
        "os.getcwd()"
      ],
      "execution_count": 27,
      "outputs": [
        {
          "output_type": "execute_result",
          "data": {
            "text/plain": [
              "'/content/drive/My Drive'"
            ]
          },
          "metadata": {
            "tags": []
          },
          "execution_count": 27
        }
      ]
    },
    {
      "cell_type": "code",
      "metadata": {
        "id": "-FT3K5vhzW-O",
        "colab_type": "code",
        "colab": {}
      },
      "source": [
        "criterion = torch.nn.L1Loss()\n",
        "\n",
        "# from kornia.losses import SSIM"
      ],
      "execution_count": 0,
      "outputs": []
    },
    {
      "cell_type": "code",
      "metadata": {
        "id": "OEsetWeWYAy3",
        "colab_type": "code",
        "colab": {}
      },
      "source": [
        "def train(model, criterion, device, train_loader, optimizer, epoch):\n",
        "  model.train()\n",
        "  for batch_idx, data in enumerate(train_loader):\n",
        "    data[\"fg\"] = data[\"fg\"].to(device)\n",
        "    data[\"bg\"] = data[\"bg\"].to(device)\n",
        "    data[\"mask\"] = data[\"mask\"].to(device)\n",
        "    data[\"depth\"] = data[\"depth\"].to(device)\n",
        "    \n",
        "    optimizer.zero_grad()\n",
        "\n",
        "    # data[\"depth\"] = 1000/data[\"depth\"]\n",
        "\n",
        "\n",
        "\n",
        "    # cat = torch.cat((data[\"fg\"],data[\"mask\"]),1)\n",
        "    dep = model(data[\"fg\"])\n",
        "    \n",
        "    # print(output.shape)\n",
        "\n",
        "    \n",
        "\n",
        "    loss1 = criterion(dep, data[\"depth\"])\n",
        "    # loss2 = dice_loss(dep, data[\"depth\"])\n",
        "    # loss = loss1 + 0.1 *loss2\n",
        "    loss1.backward()\n",
        "    optimizer.step()\n",
        "  if epoch % 50 == 0 :\n",
        "    show(dep.detach().cpu(),dep.detach().cpu(),data[\"mask\"].detach().cpu(),data[\"depth\"].detach().cpu(),epoch, nrow=4)    "
      ],
      "execution_count": 0,
      "outputs": []
    },
    {
      "cell_type": "code",
      "metadata": {
        "id": "0-opZ9QMbH6j",
        "colab_type": "code",
        "colab": {}
      },
      "source": [
        "# def test(model, criterion, device, test_loader):\n",
        "#   model.eval()\n",
        "#   test_loss = 0\n",
        "#   correct = 0\n",
        "\n",
        "#   with torch.no_grad():\n",
        "#     for data in test_loader:\n",
        "#       data[\"fg\"] = data[\"fg\"].to(device)\n",
        "#       data[\"bg\"] = data[\"bg\"].to(device)\n",
        "#       data[\"mask\"] = data[\"mask\"].to(device)\n",
        "#       output = model(data[\"fg\"])\n",
        "\n",
        "#       test_loss += criterion(output, data[\"mask\"], reduction='sum' ).item()\n",
        "#       pred = output.argmax(dim=1, keepdim=True)\n",
        "#       correct += pred.eq(target.view_as(pred)).sum().item()\n",
        "\n",
        "#       show(output.cpu(), nrow=2)\n",
        "#     test_loss /= len(test_loader.dataset)\n",
        "#     show(output.detach().cpu(), nrow=4)"
      ],
      "execution_count": 0,
      "outputs": []
    },
    {
      "cell_type": "code",
      "metadata": {
        "id": "jkkTlwkIv4Pa",
        "colab_type": "code",
        "colab": {}
      },
      "source": [
        "optim = torch.optim.SGD(model.parameters(), lr = 0.01, momentum=.9, weight_decay=1e-5)"
      ],
      "execution_count": 0,
      "outputs": []
    },
    {
      "cell_type": "code",
      "metadata": {
        "id": "jTHOSFRDwS0I",
        "colab_type": "code",
        "colab": {}
      },
      "source": [
        "model = model.to(device)"
      ],
      "execution_count": 0,
      "outputs": []
    },
    {
      "cell_type": "code",
      "metadata": {
        "id": "Gc6Gd9PDwXEN",
        "colab_type": "code",
        "outputId": "e63e2d9c-c5ac-4b53-f75c-987752acaf68",
        "colab": {
          "base_uri": "https://localhost:8080/",
          "height": 1000
        }
      },
      "source": [
        "for epoch in range(1,201):\n",
        "  train(model, criterion, device, train_dl, optim, epoch)"
      ],
      "execution_count": 33,
      "outputs": [
        {
          "output_type": "display_data",
          "data": {
            "image/png": "[encoded data removed]",
            "text/plain": [
              "<Figure size 720x720 with 16 Axes>"
            ]
          },
          "metadata": {
            "tags": [],
            "needs_background": "light"
          }
        },
        {
          "output_type": "display_data",
          "data": {
            "image/png": "[encoded data removed]",
            "text/plain": [
              "<Figure size 720x720 with 16 Axes>"
            ]
          },
          "metadata": {
            "tags": [],
            "needs_background": "light"
          }
        },
        {
          "output_type": "display_data",
          "data": {
            "image/png": "[encoded data removed]",
            "text/plain": [
              "<Figure size 720x720 with 16 Axes>"
            ]
          },
          "metadata": {
            "tags": [],
            "needs_background": "light"
          }
        },
        {
          "output_type": "display_data",
          "data": {
            "image/png": "[encoded data removed]",
            "text/plain": [
              "<Figure size 720x720 with 16 Axes>"
            ]
          },
          "metadata": {
            "tags": [],
            "needs_background": "light"
          }
        }
      ]
    },
    {
      "cell_type": "code",
      "metadata": {
        "id": "Zmcvx_JVwmSf",
        "colab_type": "code",
        "colab": {}
      },
      "source": [
        "# writer.close()"
      ],
      "execution_count": 0,
      "outputs": []
    }
  ]
}