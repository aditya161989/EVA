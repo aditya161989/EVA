{
 "cells": [
  {
   "cell_type": "code",
   "execution_count": 1,
   "metadata": {},
   "outputs": [
    {
     "name": "stdout",
     "output_type": "stream",
     "text": [
      "PyTorch 1.5.0 _CudaDeviceProperties(name='GeForce RTX 2080 Ti', major=7, minor=5, total_memory=11019MB, multi_processor_count=68)\n"
     ]
    }
   ],
   "source": [
    "from IPython.display import Image, clear_output \n",
    "import torch\n",
    "print('PyTorch %s %s' % (torch.__version__, torch.cuda.get_device_properties(0) if torch.cuda.is_available() else 'CPU'))"
   ]
  },
  {
   "cell_type": "code",
   "execution_count": 2,
   "metadata": {},
   "outputs": [
    {
     "data": {
      "text/plain": [
       "'/workspace/Assignment 15'"
      ]
     },
     "execution_count": 2,
     "metadata": {},
     "output_type": "execute_result"
    }
   ],
   "source": [
    "import os\n",
    "os.getcwd()"
   ]
  },
  {
   "cell_type": "code",
   "execution_count": 5,
   "metadata": {},
   "outputs": [
    {
     "name": "stdout",
     "output_type": "stream",
     "text": [
      "--2020-05-22 16:01:03--  https://docs.google.com/uc?export=download&confirm=Xirz&id=12-FkBOp4IiPMATGRIkPS_LJS41m7kfCi\n",
      "Resolving docs.google.com (docs.google.com)... 172.217.20.46, 2a00:1450:400f:806::200e\n",
      "Connecting to docs.google.com (docs.google.com)|172.217.20.46|:443... connected.\n",
      "HTTP request sent, awaiting response... 302 Moved Temporarily\n",
      "Location: https://doc-08-0o-docs.googleusercontent.com/docs/securesc/h4n2os5c3dk7gff23anio6fqea5jvuda/vbsbi6ct1nub12shshgg4sulbn3kh83g/1590163200000/07162745851476456427/10554541250560440466Z/12-FkBOp4IiPMATGRIkPS_LJS41m7kfCi?e=download [following]\n",
      "--2020-05-22 16:01:03--  https://doc-08-0o-docs.googleusercontent.com/docs/securesc/h4n2os5c3dk7gff23anio6fqea5jvuda/vbsbi6ct1nub12shshgg4sulbn3kh83g/1590163200000/07162745851476456427/10554541250560440466Z/12-FkBOp4IiPMATGRIkPS_LJS41m7kfCi?e=download\n",
      "Resolving doc-08-0o-docs.googleusercontent.com (doc-08-0o-docs.googleusercontent.com)... 216.58.211.129, 2a00:1450:400f:808::2001\n",
      "Connecting to doc-08-0o-docs.googleusercontent.com (doc-08-0o-docs.googleusercontent.com)|216.58.211.129|:443... connected.\n",
      "HTTP request sent, awaiting response... 302 Found\n",
      "Location: https://docs.google.com/nonceSigner?nonce=av6rs0jr7siai&continue=https://doc-08-0o-docs.googleusercontent.com/docs/securesc/h4n2os5c3dk7gff23anio6fqea5jvuda/vbsbi6ct1nub12shshgg4sulbn3kh83g/1590163200000/07162745851476456427/10554541250560440466Z/12-FkBOp4IiPMATGRIkPS_LJS41m7kfCi?e%3Ddownload&hash=ir8j8n5ask10bcsa6p8q3d4ceu8bti8r [following]\n",
      "--2020-05-22 16:01:04--  https://docs.google.com/nonceSigner?nonce=av6rs0jr7siai&continue=https://doc-08-0o-docs.googleusercontent.com/docs/securesc/h4n2os5c3dk7gff23anio6fqea5jvuda/vbsbi6ct1nub12shshgg4sulbn3kh83g/1590163200000/07162745851476456427/10554541250560440466Z/12-FkBOp4IiPMATGRIkPS_LJS41m7kfCi?e%3Ddownload&hash=ir8j8n5ask10bcsa6p8q3d4ceu8bti8r\n",
      "Connecting to docs.google.com (docs.google.com)|172.217.20.46|:443... connected.\n",
      "HTTP request sent, awaiting response... 302 Found\n",
      "Location: https://doc-08-0o-docs.googleusercontent.com/docs/securesc/h4n2os5c3dk7gff23anio6fqea5jvuda/vbsbi6ct1nub12shshgg4sulbn3kh83g/1590163200000/07162745851476456427/10554541250560440466Z/12-FkBOp4IiPMATGRIkPS_LJS41m7kfCi?e=download&nonce=av6rs0jr7siai&user=10554541250560440466Z&hash=su3i8j5dkcqf3p9m2q1j7e2dtrnsrrvp [following]\n",
      "--2020-05-22 16:01:04--  https://doc-08-0o-docs.googleusercontent.com/docs/securesc/h4n2os5c3dk7gff23anio6fqea5jvuda/vbsbi6ct1nub12shshgg4sulbn3kh83g/1590163200000/07162745851476456427/10554541250560440466Z/12-FkBOp4IiPMATGRIkPS_LJS41m7kfCi?e=download&nonce=av6rs0jr7siai&user=10554541250560440466Z&hash=su3i8j5dkcqf3p9m2q1j7e2dtrnsrrvp\n",
      "Connecting to doc-08-0o-docs.googleusercontent.com (doc-08-0o-docs.googleusercontent.com)|216.58.211.129|:443... connected.\n",
      "HTTP request sent, awaiting response... 200 OK\n",
      "Length: unspecified [application/x-zip-compressed]\n",
      "Saving to: ‘overlay’\n",
      "\n",
      "overlay                 [         <=>        ]   3.86G  81.5MB/s    in 54s     \n",
      "\n",
      "2020-05-22 16:01:58 (73.7 MB/s) - ‘overlay’ saved [4145547082]\n",
      "\n"
     ]
    }
   ],
   "source": [
    "!wget --load-cookies /tmp/cookies.txt \"https://docs.google.com/uc?export=download&confirm=$(wget --quiet --save-cookies /tmp/cookies.txt --keep-session-cookies --no-check-certificate 'https://docs.google.com/uc?export=download&id=12-FkBOp4IiPMATGRIkPS_LJS41m7kfCi' -O- | sed -rn 's/.*confirm=([0-9A-Za-z_]+).*/\\1\\n/p')&id=12-FkBOp4IiPMATGRIkPS_LJS41m7kfCi\" -O overlay && rm -rf /tmp/cookies.txt"
   ]
  },
  {
   "cell_type": "code",
   "execution_count": 6,
   "metadata": {},
   "outputs": [
    {
     "name": "stdout",
     "output_type": "stream",
     "text": [
      "--2020-05-22 16:08:29--  https://docs.google.com/uc?export=download&confirm=JyTx&id=1zfPTsRgMnUDQf85jkvr1ooBLc8f6SwGA\n",
      "Resolving docs.google.com (docs.google.com)... 216.58.207.238, 2a00:1450:400f:809::200e\n",
      "Connecting to docs.google.com (docs.google.com)|216.58.207.238|:443... connected.\n",
      "HTTP request sent, awaiting response... 302 Moved Temporarily\n",
      "Location: https://doc-08-60-docs.googleusercontent.com/docs/securesc/ugssrv9s5g4tft0nhtlpccf6k8jslu76/3akln8unvi2hj79sm09quj271fu0h713/1590163650000/07162745851476456427/07595906584986022767Z/1zfPTsRgMnUDQf85jkvr1ooBLc8f6SwGA?e=download [following]\n",
      "--2020-05-22 16:08:30--  https://doc-08-60-docs.googleusercontent.com/docs/securesc/ugssrv9s5g4tft0nhtlpccf6k8jslu76/3akln8unvi2hj79sm09quj271fu0h713/1590163650000/07162745851476456427/07595906584986022767Z/1zfPTsRgMnUDQf85jkvr1ooBLc8f6SwGA?e=download\n",
      "Resolving doc-08-60-docs.googleusercontent.com (doc-08-60-docs.googleusercontent.com)... 216.58.211.129, 2a00:1450:400f:808::2001\n",
      "Connecting to doc-08-60-docs.googleusercontent.com (doc-08-60-docs.googleusercontent.com)|216.58.211.129|:443... connected.\n",
      "HTTP request sent, awaiting response... 302 Found\n",
      "Location: https://docs.google.com/nonceSigner?nonce=h3umv23974b0o&continue=https://doc-08-60-docs.googleusercontent.com/docs/securesc/ugssrv9s5g4tft0nhtlpccf6k8jslu76/3akln8unvi2hj79sm09quj271fu0h713/1590163650000/07162745851476456427/07595906584986022767Z/1zfPTsRgMnUDQf85jkvr1ooBLc8f6SwGA?e%3Ddownload&hash=ja5cm71n41f4k99j10b3sk0aelfqqacs [following]\n",
      "--2020-05-22 16:08:30--  https://docs.google.com/nonceSigner?nonce=h3umv23974b0o&continue=https://doc-08-60-docs.googleusercontent.com/docs/securesc/ugssrv9s5g4tft0nhtlpccf6k8jslu76/3akln8unvi2hj79sm09quj271fu0h713/1590163650000/07162745851476456427/07595906584986022767Z/1zfPTsRgMnUDQf85jkvr1ooBLc8f6SwGA?e%3Ddownload&hash=ja5cm71n41f4k99j10b3sk0aelfqqacs\n",
      "Connecting to docs.google.com (docs.google.com)|216.58.207.238|:443... connected.\n",
      "HTTP request sent, awaiting response... 302 Found\n",
      "Location: https://doc-08-60-docs.googleusercontent.com/docs/securesc/ugssrv9s5g4tft0nhtlpccf6k8jslu76/3akln8unvi2hj79sm09quj271fu0h713/1590163650000/07162745851476456427/07595906584986022767Z/1zfPTsRgMnUDQf85jkvr1ooBLc8f6SwGA?e=download&nonce=h3umv23974b0o&user=07595906584986022767Z&hash=kro1iv2bc29ts9povn70uje0ipte01g6 [following]\n",
      "--2020-05-22 16:08:30--  https://doc-08-60-docs.googleusercontent.com/docs/securesc/ugssrv9s5g4tft0nhtlpccf6k8jslu76/3akln8unvi2hj79sm09quj271fu0h713/1590163650000/07162745851476456427/07595906584986022767Z/1zfPTsRgMnUDQf85jkvr1ooBLc8f6SwGA?e=download&nonce=h3umv23974b0o&user=07595906584986022767Z&hash=kro1iv2bc29ts9povn70uje0ipte01g6\n",
      "Connecting to doc-08-60-docs.googleusercontent.com (doc-08-60-docs.googleusercontent.com)|216.58.211.129|:443... connected.\n",
      "HTTP request sent, awaiting response... 200 OK\n",
      "Length: unspecified [application/x-zip-compressed]\n",
      "Saving to: ‘depth’\n",
      "\n",
      "depth                   [             <=>    ]  83.24M  32.2MB/s    in 2.6s    \n",
      "\n",
      "2020-05-22 16:08:33 (32.2 MB/s) - ‘depth’ saved [87281730]\n",
      "\n"
     ]
    }
   ],
   "source": [
    "!wget --load-cookies /tmp/cookies.txt \"https://docs.google.com/uc?export=download&confirm=$(wget --quiet --save-cookies /tmp/cookies.txt --keep-session-cookies --no-check-certificate 'https://docs.google.com/uc?export=download&id=1zfPTsRgMnUDQf85jkvr1ooBLc8f6SwGA' -O- | sed -rn 's/.*confirm=([0-9A-Za-z_]+).*/\\1\\n/p')&id=1zfPTsRgMnUDQf85jkvr1ooBLc8f6SwGA\" -O depth && rm -rf /tmp/cookies.txt"
   ]
  },
  {
   "cell_type": "code",
   "execution_count": 7,
   "metadata": {},
   "outputs": [],
   "source": [
    "import zipfile\n",
    "with zipfile.ZipFile(\"/workspace/Assignment 15/overlay.zip\", 'r') as zip_ref:\n",
    "    zip_ref.extractall(\"/workspace/Assignment 15/data/train\")"
   ]
  },
  {
   "cell_type": "code",
   "execution_count": 8,
   "metadata": {},
   "outputs": [],
   "source": [
    "with zipfile.ZipFile(\"/workspace/Assignment 15/depth.zip\", 'r') as zip_ref:\n",
    "    zip_ref.extractall(\"/workspace/Assignment 15/data/train/depth\")"
   ]
  },
  {
   "cell_type": "code",
   "execution_count": null,
   "metadata": {},
   "outputs": [],
   "source": []
  }
 ],
 "metadata": {
  "kernelspec": {
   "display_name": "Python 3",
   "language": "python",
   "name": "python3"
  },
  "language_info": {
   "codemirror_mode": {
    "name": "ipython",
    "version": 3
   },
   "file_extension": ".py",
   "mimetype": "text/x-python",
   "name": "python",
   "nbconvert_exporter": "python",
   "pygments_lexer": "ipython3",
   "version": "3.7.7"
  }
 },
 "nbformat": 4,
 "nbformat_minor": 4
}
